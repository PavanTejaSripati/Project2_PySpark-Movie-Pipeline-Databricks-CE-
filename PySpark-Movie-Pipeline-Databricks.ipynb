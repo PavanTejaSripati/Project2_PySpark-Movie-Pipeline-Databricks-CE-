{
 "cells": [
  {
   "cell_type": "markdown",
   "metadata": {
    "application/vnd.databricks.v1+cell": {
     "cellMetadata": {
      "byteLimit": 2048000,
      "rowLimit": 10000
     },
     "inputWidgets": {},
     "nuid": "00db1b7c-32a8-441e-9c53-79f3ddb8e7d8",
     "showTitle": false,
     "tableResultSettingsMap": {},
     "title": ""
    }
   },
   "source": [
    "###Set up paths "
   ]
  },
  {
   "cell_type": "code",
   "execution_count": 0,
   "metadata": {
    "application/vnd.databricks.v1+cell": {
     "cellMetadata": {
      "byteLimit": 2048000,
      "rowLimit": 10000
     },
     "inputWidgets": {},
     "nuid": "b0657c87-23fe-45d4-b540-306d1d225f9b",
     "showTitle": false,
     "tableResultSettingsMap": {},
     "title": ""
    }
   },
   "outputs": [],
   "source": [
    "RAW = \"/Volumes/demo/bronze/movie/imdb_movies.csv\"      # upload your CSV here (Data → Add → Upload)\n",
    "OUT = \"/Volumes/demo/bronze/movi/out\"             # where we’ll write results\n"
   ]
  },
  {
   "cell_type": "code",
   "execution_count": 0,
   "metadata": {
    "application/vnd.databricks.v1+cell": {
     "cellMetadata": {
      "byteLimit": 2048000,
      "rowLimit": 10000
     },
     "inputWidgets": {},
     "nuid": "b2e01ab3-5cc6-40e8-b456-e6e002e26524",
     "showTitle": false,
     "tableResultSettingsMap": {},
     "title": ""
    }
   },
   "outputs": [
    {
     "output_type": "display_data",
     "data": {
      "text/html": [
       "<style scoped>\n",
       "  .table-result-container {\n",
       "    max-height: 300px;\n",
       "    overflow: auto;\n",
       "  }\n",
       "  table, th, td {\n",
       "    border: 1px solid black;\n",
       "    border-collapse: collapse;\n",
       "  }\n",
       "  th, td {\n",
       "    padding: 5px;\n",
       "  }\n",
       "  th {\n",
       "    text-align: left;\n",
       "  }\n",
       "</style><div class='table-result-container'><table class='table-result'><thead style='background-color: white'><tr><th>names</th><th>date_x</th><th>score</th><th>genre</th><th>overview</th><th>crew</th><th>orig_title</th><th>status</th><th>orig_lang</th><th>budget_x</th><th>revenue</th><th>country</th></tr></thead><tbody><tr><td>Creed III</td><td>03/02/2023 </td><td>73.0</td><td>Drama, Action</td><td>After dominating the boxing world, Adonis Creed has been thriving in both his career and family life. When a childhood friend and former boxing prodigy, Damien Anderson, resurfaces after serving a long sentence in prison, he is eager to prove that he deserves his shot in the ring. The face-off between former friends is more than just a fight. To settle the score, Adonis must put his future on the line to battle Damien — a fighter who has nothing to lose.</td><td>Michael B. Jordan, Adonis Creed, Tessa Thompson, Bianca Taylor, Jonathan Majors, Damien Anderson, Wood Harris, Tony 'Little Duke' Evers, Phylicia Rashād, Mary Anne Creed, Mila Davis-Kent, Amara Creed, Florian Munteanu, Viktor Drago, José Benavidez Jr., Felix Chavez, Selenis Leyva, Laura Chavez</td><td>Creed III</td><td> Released</td><td> English</td><td>75000000.0</td><td>271616668.0</td><td>AU</td></tr><tr><td>Avatar: The Way of Water</td><td>12/15/2022 </td><td>78.0</td><td>Science Fiction, Adventure, Action</td><td>Set more than a decade after the events of the first film, learn the story of the Sully family (Jake, Neytiri, and their kids), the trouble that follows them, the lengths they go to keep each other safe, the battles they fight to stay alive, and the tragedies they endure.</td><td>Sam Worthington, Jake Sully, Zoe Saldaña, Neytiri, Sigourney Weaver, Kiri / Dr. Grace Augustine, Stephen Lang, Colonel Miles Quaritch, Kate Winslet, Ronal, Cliff Curtis, Tonowari, Joel David Moore, Norm Spellman, CCH Pounder, Mo'at, Edie Falco, General Frances Ardmore</td><td>Avatar: The Way of Water</td><td> Released</td><td> English</td><td>460000000.0</td><td>2316794914.0</td><td>AU</td></tr><tr><td>The Super Mario Bros. Movie</td><td>04/05/2023 </td><td>76.0</td><td>Animation, Adventure, Family, Fantasy, Comedy</td><td>While working underground to fix a water main, Brooklyn plumbers—and brothers—Mario and Luigi are transported down a mysterious pipe and wander into a magical new world. But when the brothers are separated, Mario embarks on an epic quest to find Luigi.</td><td>Chris Pratt, Mario (voice), Anya Taylor-Joy, Princess Peach (voice), Charlie Day, Luigi (voice), Jack Black, Bowser (voice), Keegan-Michael Key, Toad (voice), Seth Rogen, Donkey Kong (voice), Fred Armisen, Cranky Kong (voice), Kevin Michael Richardson, Kamek (voice), Sebastian Maniscalco, Spike (voice)</td><td>The Super Mario Bros. Movie</td><td> Released</td><td> English</td><td>100000000.0</td><td>724459031.0</td><td>AU</td></tr><tr><td>Mummies</td><td>01/05/2023 </td><td>70.0</td><td>Animation, Comedy, Family, Adventure, Fantasy</td><td>Through a series of unfortunate events, three mummies end up in present-day London and embark on a wacky and hilarious journey in search of an old ring belonging to the Royal Family, stolen by ambitious archaeologist Lord Carnaby.</td><td>Óscar Barberán, Thut (voice), Ana Esther Alborg, Nefer (voice), Luis Pérez Reina, Carnaby (voice), María Luisa Solá, Madre (voice), Jaume Solà, Sekhem (voice), José Luis Mediavilla, Ed (voice), José Javier Serrano Rodríguez, Danny (voice), Aleix Estadella, Dennis (voice), María Moscardó, Usi (voice)</td><td> Momias</td><td> Released</td><td> Spanish, Castilian</td><td>12300000.0</td><td>34200000.0</td><td>AU</td></tr><tr><td>Supercell</td><td>03/17/2023 </td><td>61.0</td><td>Action</td><td>Good-hearted teenager William always lived in hope of following in his late father’s footsteps and becoming a storm chaser. His father’s legacy has now been turned into a storm-chasing tourist business, managed by the greedy and reckless Zane Rogers, who is now using William as the main attraction to lead a group of unsuspecting adventurers deep into the eye of the most dangerous supercell ever seen.</td><td>Skeet Ulrich, Roy Cameron, Anne Heche, Dr Quinn Brody, Daniel Diemer, William Brody, Jordan Kristine Seamón, Harper Hunter, Alec Baldwin, Zane Rogers, Richard Gunn, Bill Brody, Praya Lundberg, Amy, Johnny Wactor, Martin, Anjul Nigam, Ramesh</td><td>Supercell</td><td> Released</td><td> English</td><td>77000000.0</td><td>340941958.6</td><td>US</td></tr></tbody></table></div>"
      ]
     },
     "metadata": {
      "application/vnd.databricks.v1+output": {
       "addedWidgets": {},
       "aggData": [],
       "aggError": "",
       "aggOverflow": false,
       "aggSchema": [],
       "aggSeriesLimitReached": false,
       "aggType": "",
       "arguments": {},
       "columnCustomDisplayInfos": {},
       "data": [
        [
         "Creed III",
         "03/02/2023 ",
         73.0,
         "Drama, Action",
         "After dominating the boxing world, Adonis Creed has been thriving in both his career and family life. When a childhood friend and former boxing prodigy, Damien Anderson, resurfaces after serving a long sentence in prison, he is eager to prove that he deserves his shot in the ring. The face-off between former friends is more than just a fight. To settle the score, Adonis must put his future on the line to battle Damien — a fighter who has nothing to lose.",
         "Michael B. Jordan, Adonis Creed, Tessa Thompson, Bianca Taylor, Jonathan Majors, Damien Anderson, Wood Harris, Tony 'Little Duke' Evers, Phylicia Rashād, Mary Anne Creed, Mila Davis-Kent, Amara Creed, Florian Munteanu, Viktor Drago, José Benavidez Jr., Felix Chavez, Selenis Leyva, Laura Chavez",
         "Creed III",
         " Released",
         " English",
         "75000000.0",
         "271616668.0",
         "AU"
        ],
        [
         "Avatar: The Way of Water",
         "12/15/2022 ",
         78.0,
         "Science Fiction, Adventure, Action",
         "Set more than a decade after the events of the first film, learn the story of the Sully family (Jake, Neytiri, and their kids), the trouble that follows them, the lengths they go to keep each other safe, the battles they fight to stay alive, and the tragedies they endure.",
         "Sam Worthington, Jake Sully, Zoe Saldaña, Neytiri, Sigourney Weaver, Kiri / Dr. Grace Augustine, Stephen Lang, Colonel Miles Quaritch, Kate Winslet, Ronal, Cliff Curtis, Tonowari, Joel David Moore, Norm Spellman, CCH Pounder, Mo'at, Edie Falco, General Frances Ardmore",
         "Avatar: The Way of Water",
         " Released",
         " English",
         "460000000.0",
         "2316794914.0",
         "AU"
        ],
        [
         "The Super Mario Bros. Movie",
         "04/05/2023 ",
         76.0,
         "Animation, Adventure, Family, Fantasy, Comedy",
         "While working underground to fix a water main, Brooklyn plumbers—and brothers—Mario and Luigi are transported down a mysterious pipe and wander into a magical new world. But when the brothers are separated, Mario embarks on an epic quest to find Luigi.",
         "Chris Pratt, Mario (voice), Anya Taylor-Joy, Princess Peach (voice), Charlie Day, Luigi (voice), Jack Black, Bowser (voice), Keegan-Michael Key, Toad (voice), Seth Rogen, Donkey Kong (voice), Fred Armisen, Cranky Kong (voice), Kevin Michael Richardson, Kamek (voice), Sebastian Maniscalco, Spike (voice)",
         "The Super Mario Bros. Movie",
         " Released",
         " English",
         "100000000.0",
         "724459031.0",
         "AU"
        ],
        [
         "Mummies",
         "01/05/2023 ",
         70.0,
         "Animation, Comedy, Family, Adventure, Fantasy",
         "Through a series of unfortunate events, three mummies end up in present-day London and embark on a wacky and hilarious journey in search of an old ring belonging to the Royal Family, stolen by ambitious archaeologist Lord Carnaby.",
         "Óscar Barberán, Thut (voice), Ana Esther Alborg, Nefer (voice), Luis Pérez Reina, Carnaby (voice), María Luisa Solá, Madre (voice), Jaume Solà, Sekhem (voice), José Luis Mediavilla, Ed (voice), José Javier Serrano Rodríguez, Danny (voice), Aleix Estadella, Dennis (voice), María Moscardó, Usi (voice)",
         " Momias",
         " Released",
         " Spanish, Castilian",
         "12300000.0",
         "34200000.0",
         "AU"
        ],
        [
         "Supercell",
         "03/17/2023 ",
         61.0,
         "Action",
         "Good-hearted teenager William always lived in hope of following in his late father’s footsteps and becoming a storm chaser. His father’s legacy has now been turned into a storm-chasing tourist business, managed by the greedy and reckless Zane Rogers, who is now using William as the main attraction to lead a group of unsuspecting adventurers deep into the eye of the most dangerous supercell ever seen.",
         "Skeet Ulrich, Roy Cameron, Anne Heche, Dr Quinn Brody, Daniel Diemer, William Brody, Jordan Kristine Seamón, Harper Hunter, Alec Baldwin, Zane Rogers, Richard Gunn, Bill Brody, Praya Lundberg, Amy, Johnny Wactor, Martin, Anjul Nigam, Ramesh",
         "Supercell",
         " Released",
         " English",
         "77000000.0",
         "340941958.6",
         "US"
        ]
       ],
       "datasetInfos": [],
       "dbfsResultPath": null,
       "isJsonSchema": true,
       "metadata": {},
       "overflow": false,
       "plotOptions": {
        "customPlotOptions": {},
        "displayType": "table",
        "pivotAggregation": null,
        "pivotColumns": null,
        "xColumns": null,
        "yColumns": null
       },
       "removedWidgets": [],
       "schema": [
        {
         "metadata": "{}",
         "name": "names",
         "type": "\"string\""
        },
        {
         "metadata": "{}",
         "name": "date_x",
         "type": "\"string\""
        },
        {
         "metadata": "{}",
         "name": "score",
         "type": "\"double\""
        },
        {
         "metadata": "{}",
         "name": "genre",
         "type": "\"string\""
        },
        {
         "metadata": "{}",
         "name": "overview",
         "type": "\"string\""
        },
        {
         "metadata": "{}",
         "name": "crew",
         "type": "\"string\""
        },
        {
         "metadata": "{}",
         "name": "orig_title",
         "type": "\"string\""
        },
        {
         "metadata": "{}",
         "name": "status",
         "type": "\"string\""
        },
        {
         "metadata": "{}",
         "name": "orig_lang",
         "type": "\"string\""
        },
        {
         "metadata": "{}",
         "name": "budget_x",
         "type": "\"string\""
        },
        {
         "metadata": "{}",
         "name": "revenue",
         "type": "\"string\""
        },
        {
         "metadata": "{}",
         "name": "country",
         "type": "\"string\""
        }
       ],
       "type": "table"
      }
     },
     "output_type": "display_data"
    },
    {
     "output_type": "stream",
     "name": "stdout",
     "output_type": "stream",
     "text": [
      "['names', 'date_x', 'score', 'genre', 'overview', 'crew', 'orig_title', 'status', 'orig_lang', 'budget_x', 'revenue', 'country']\nroot\n |-- names: string (nullable = true)\n |-- date_x: string (nullable = true)\n |-- score: double (nullable = true)\n |-- genre: string (nullable = true)\n |-- overview: string (nullable = true)\n |-- crew: string (nullable = true)\n |-- orig_title: string (nullable = true)\n |-- status: string (nullable = true)\n |-- orig_lang: string (nullable = true)\n |-- budget_x: string (nullable = true)\n |-- revenue: string (nullable = true)\n |-- country: string (nullable = true)\n\n"
     ]
    }
   ],
   "source": [
    "df = (spark.read\n",
    "      .option(\"header\", True)\n",
    "      .option(\"inferSchema\", True)\n",
    "      .csv(RAW))\n",
    "\n",
    "display(df.limit(5))\n",
    "print(df.columns)\n",
    "df.printSchema()\n"
   ]
  },
  {
   "cell_type": "code",
   "execution_count": 0,
   "metadata": {
    "application/vnd.databricks.v1+cell": {
     "cellMetadata": {
      "byteLimit": 2048000,
      "rowLimit": 10000
     },
     "inputWidgets": {},
     "nuid": "79ce6817-dd9f-4597-a14c-b538593ccd09",
     "showTitle": false,
     "tableResultSettingsMap": {},
     "title": ""
    }
   },
   "outputs": [
    {
     "output_type": "display_data",
     "data": {
      "text/html": [
       "<style scoped>\n",
       "  .table-result-container {\n",
       "    max-height: 300px;\n",
       "    overflow: auto;\n",
       "  }\n",
       "  table, th, td {\n",
       "    border: 1px solid black;\n",
       "    border-collapse: collapse;\n",
       "  }\n",
       "  th, td {\n",
       "    padding: 5px;\n",
       "  }\n",
       "  th {\n",
       "    text-align: left;\n",
       "  }\n",
       "</style><div class='table-result-container'><table class='table-result'><thead style='background-color: white'><tr><th>title</th><th>genres</th><th>release_year</th><th>rating</th><th>country</th></tr></thead><tbody><tr><td>Creed III</td><td>Drama, Action</td><td>2023</td><td>73.0</td><td>AU</td></tr><tr><td>Avatar: The Way of Water</td><td>Science Fiction, Adventure, Action</td><td>2022</td><td>78.0</td><td>AU</td></tr><tr><td>The Super Mario Bros. Movie</td><td>Animation, Adventure, Family, Fantasy, Comedy</td><td>2023</td><td>76.0</td><td>AU</td></tr><tr><td>Mummies</td><td>Animation, Comedy, Family, Adventure, Fantasy</td><td>2023</td><td>70.0</td><td>AU</td></tr><tr><td>Supercell</td><td>Action</td><td>2023</td><td>61.0</td><td>US</td></tr><tr><td>Cocaine Bear</td><td>Thriller, Comedy, Crime</td><td>2023</td><td>66.0</td><td>AU</td></tr><tr><td>John Wick: Chapter 4</td><td>Action, Thriller, Crime</td><td>2023</td><td>80.0</td><td>AU</td></tr><tr><td>Puss in Boots: The Last Wish</td><td>Animation, Family, Fantasy, Adventure, Comedy</td><td>2022</td><td>83.0</td><td>AU</td></tr><tr><td>Attack on Titan</td><td>Action, Science Fiction</td><td>2022</td><td>59.0</td><td>US</td></tr><tr><td>The Park</td><td>Action, Drama, Horror, Science Fiction, Thriller</td><td>2023</td><td>58.0</td><td>US</td></tr></tbody></table></div>"
      ]
     },
     "metadata": {
      "application/vnd.databricks.v1+output": {
       "addedWidgets": {},
       "aggData": [],
       "aggError": "",
       "aggOverflow": false,
       "aggSchema": [],
       "aggSeriesLimitReached": false,
       "aggType": "",
       "arguments": {},
       "columnCustomDisplayInfos": {},
       "data": [
        [
         "Creed III",
         "Drama, Action",
         2023,
         73.0,
         "AU"
        ],
        [
         "Avatar: The Way of Water",
         "Science Fiction, Adventure, Action",
         2022,
         78.0,
         "AU"
        ],
        [
         "The Super Mario Bros. Movie",
         "Animation, Adventure, Family, Fantasy, Comedy",
         2023,
         76.0,
         "AU"
        ],
        [
         "Mummies",
         "Animation, Comedy, Family, Adventure, Fantasy",
         2023,
         70.0,
         "AU"
        ],
        [
         "Supercell",
         "Action",
         2023,
         61.0,
         "US"
        ],
        [
         "Cocaine Bear",
         "Thriller, Comedy, Crime",
         2023,
         66.0,
         "AU"
        ],
        [
         "John Wick: Chapter 4",
         "Action, Thriller, Crime",
         2023,
         80.0,
         "AU"
        ],
        [
         "Puss in Boots: The Last Wish",
         "Animation, Family, Fantasy, Adventure, Comedy",
         2022,
         83.0,
         "AU"
        ],
        [
         "Attack on Titan",
         "Action, Science Fiction",
         2022,
         59.0,
         "US"
        ],
        [
         "The Park",
         "Action, Drama, Horror, Science Fiction, Thriller",
         2023,
         58.0,
         "US"
        ]
       ],
       "datasetInfos": [],
       "dbfsResultPath": null,
       "isJsonSchema": true,
       "metadata": {},
       "overflow": false,
       "plotOptions": {
        "customPlotOptions": {},
        "displayType": "table",
        "pivotAggregation": null,
        "pivotColumns": null,
        "xColumns": null,
        "yColumns": null
       },
       "removedWidgets": [],
       "schema": [
        {
         "metadata": "{}",
         "name": "title",
         "type": "\"string\""
        },
        {
         "metadata": "{}",
         "name": "genres",
         "type": "\"string\""
        },
        {
         "metadata": "{}",
         "name": "release_year",
         "type": "\"integer\""
        },
        {
         "metadata": "{}",
         "name": "rating",
         "type": "\"double\""
        },
        {
         "metadata": "{}",
         "name": "country",
         "type": "\"string\""
        }
       ],
       "type": "table"
      }
     },
     "output_type": "display_data"
    },
    {
     "output_type": "stream",
     "name": "stdout",
     "output_type": "stream",
     "text": [
      "Null release_year count: 0\n"
     ]
    }
   ],
   "source": [
    "from pyspark.sql import functions as F\n",
    "\n",
    "df_raw = (spark.read\n",
    "          .option(\"header\", True)\n",
    "          .option(\"inferSchema\", True)\n",
    "          .csv(RAW))\n",
    "\n",
    "# 1) trim spaces\n",
    "d = F.trim(F.col(\"date_x\"))\n",
    "\n",
    "# 2) parse based on separator\n",
    "date_slash = F.to_date(d, \"MM/dd/yyyy\")   # e.g., 12/15/2022\n",
    "date_dash  = F.to_date(d, \"dd-MM-yyyy\")   # e.g., 03-02-2023\n",
    "\n",
    "parsed = (\n",
    "    F.when(F.instr(d, \"/\") > 0, date_slash)\n",
    "     .when(F.instr(d, \"-\") > 0, date_dash)\n",
    "     .otherwise(F.lit(None).cast(\"date\"))\n",
    ")\n",
    "\n",
    "# 3) fallback year if still null (e.g., weird strings)\n",
    "year_fallback = F.regexp_extract(d, r\"(\\d{4})\", 1).cast(\"int\")\n",
    "\n",
    "df = df_raw.select(\n",
    "    F.coalesce(F.col(\"names\"), F.col(\"orig_title\")).alias(\"title\"),\n",
    "    F.col(\"genre\").alias(\"genres\"),\n",
    "    F.coalesce(F.year(parsed), year_fallback).alias(\"release_year\"),\n",
    "    F.col(\"score\").cast(\"double\").alias(\"rating\"),\n",
    "    F.col(\"country\")\n",
    ")\n",
    "\n",
    "display(df.limit(10))\n",
    "print(\"Null release_year count:\", df.filter(F.col(\"release_year\").isNull()).count())\n"
   ]
  },
  {
   "cell_type": "markdown",
   "metadata": {
    "application/vnd.databricks.v1+cell": {
     "cellMetadata": {},
     "inputWidgets": {},
     "nuid": "b8968565-5be9-4b66-bf3a-627bbef2b521",
     "showTitle": false,
     "tableResultSettingsMap": {},
     "title": ""
    }
   },
   "source": [
    "Cell 3 — Clean + explode genres"
   ]
  },
  {
   "cell_type": "code",
   "execution_count": 0,
   "metadata": {
    "application/vnd.databricks.v1+cell": {
     "cellMetadata": {
      "byteLimit": 2048000,
      "rowLimit": 10000
     },
     "inputWidgets": {},
     "nuid": "8d8c41fc-68d6-40bf-9622-5931c352c595",
     "showTitle": false,
     "tableResultSettingsMap": {},
     "title": ""
    }
   },
   "outputs": [
    {
     "output_type": "display_data",
     "data": {
      "text/html": [
       "<style scoped>\n",
       "  .table-result-container {\n",
       "    max-height: 300px;\n",
       "    overflow: auto;\n",
       "  }\n",
       "  table, th, td {\n",
       "    border: 1px solid black;\n",
       "    border-collapse: collapse;\n",
       "  }\n",
       "  th, td {\n",
       "    padding: 5px;\n",
       "  }\n",
       "  th {\n",
       "    text-align: left;\n",
       "  }\n",
       "</style><div class='table-result-container'><table class='table-result'><thead style='background-color: white'><tr><th>title</th><th>genres</th><th>release_year</th><th>rating</th><th>country</th><th>genre</th></tr></thead><tbody><tr><td>Creed III</td><td>Drama, Action</td><td>2023</td><td>73.0</td><td>AU</td><td>Drama</td></tr><tr><td>Creed III</td><td>Drama, Action</td><td>2023</td><td>73.0</td><td>AU</td><td> Action</td></tr><tr><td>Avatar: The Way of Water</td><td>ScienceFiction, Adventure, Action</td><td>2022</td><td>78.0</td><td>AU</td><td>ScienceFiction</td></tr><tr><td>Avatar: The Way of Water</td><td>ScienceFiction, Adventure, Action</td><td>2022</td><td>78.0</td><td>AU</td><td> Adventure</td></tr><tr><td>Avatar: The Way of Water</td><td>ScienceFiction, Adventure, Action</td><td>2022</td><td>78.0</td><td>AU</td><td> Action</td></tr><tr><td>The Super Mario Bros. Movie</td><td>Animation, Adventure, Family, Fantasy, Comedy</td><td>2023</td><td>76.0</td><td>AU</td><td>Animation</td></tr><tr><td>The Super Mario Bros. Movie</td><td>Animation, Adventure, Family, Fantasy, Comedy</td><td>2023</td><td>76.0</td><td>AU</td><td> Adventure</td></tr><tr><td>The Super Mario Bros. Movie</td><td>Animation, Adventure, Family, Fantasy, Comedy</td><td>2023</td><td>76.0</td><td>AU</td><td> Family</td></tr><tr><td>The Super Mario Bros. Movie</td><td>Animation, Adventure, Family, Fantasy, Comedy</td><td>2023</td><td>76.0</td><td>AU</td><td> Fantasy</td></tr><tr><td>The Super Mario Bros. Movie</td><td>Animation, Adventure, Family, Fantasy, Comedy</td><td>2023</td><td>76.0</td><td>AU</td><td> Comedy</td></tr></tbody></table></div>"
      ]
     },
     "metadata": {
      "application/vnd.databricks.v1+output": {
       "addedWidgets": {},
       "aggData": [],
       "aggError": "",
       "aggOverflow": false,
       "aggSchema": [],
       "aggSeriesLimitReached": false,
       "aggType": "",
       "arguments": {},
       "columnCustomDisplayInfos": {},
       "data": [
        [
         "Creed III",
         "Drama, Action",
         2023,
         73.0,
         "AU",
         "Drama"
        ],
        [
         "Creed III",
         "Drama, Action",
         2023,
         73.0,
         "AU",
         " Action"
        ],
        [
         "Avatar: The Way of Water",
         "ScienceFiction, Adventure, Action",
         2022,
         78.0,
         "AU",
         "ScienceFiction"
        ],
        [
         "Avatar: The Way of Water",
         "ScienceFiction, Adventure, Action",
         2022,
         78.0,
         "AU",
         " Adventure"
        ],
        [
         "Avatar: The Way of Water",
         "ScienceFiction, Adventure, Action",
         2022,
         78.0,
         "AU",
         " Action"
        ],
        [
         "The Super Mario Bros. Movie",
         "Animation, Adventure, Family, Fantasy, Comedy",
         2023,
         76.0,
         "AU",
         "Animation"
        ],
        [
         "The Super Mario Bros. Movie",
         "Animation, Adventure, Family, Fantasy, Comedy",
         2023,
         76.0,
         "AU",
         " Adventure"
        ],
        [
         "The Super Mario Bros. Movie",
         "Animation, Adventure, Family, Fantasy, Comedy",
         2023,
         76.0,
         "AU",
         " Family"
        ],
        [
         "The Super Mario Bros. Movie",
         "Animation, Adventure, Family, Fantasy, Comedy",
         2023,
         76.0,
         "AU",
         " Fantasy"
        ],
        [
         "The Super Mario Bros. Movie",
         "Animation, Adventure, Family, Fantasy, Comedy",
         2023,
         76.0,
         "AU",
         " Comedy"
        ]
       ],
       "datasetInfos": [],
       "dbfsResultPath": null,
       "isJsonSchema": true,
       "metadata": {},
       "overflow": false,
       "plotOptions": {
        "customPlotOptions": {},
        "displayType": "table",
        "pivotAggregation": null,
        "pivotColumns": null,
        "xColumns": null,
        "yColumns": null
       },
       "removedWidgets": [],
       "schema": [
        {
         "metadata": "{}",
         "name": "title",
         "type": "\"string\""
        },
        {
         "metadata": "{}",
         "name": "genres",
         "type": "\"string\""
        },
        {
         "metadata": "{}",
         "name": "release_year",
         "type": "\"integer\""
        },
        {
         "metadata": "{}",
         "name": "rating",
         "type": "\"double\""
        },
        {
         "metadata": "{}",
         "name": "country",
         "type": "\"string\""
        },
        {
         "metadata": "{}",
         "name": "genre",
         "type": "\"string\""
        }
       ],
       "type": "table"
      }
     },
     "output_type": "display_data"
    }
   ],
   "source": [
    "df = df.where(F.col(\"title\").isNotNull() & F.col(\"release_year\").isNotNull())\n",
    "df = df.withColumn(\"genres\", F.coalesce(F.col(\"genres\"), F.lit(\"Unknown\")))\n",
    "df = df.withColumn(\"genres\", F.regexp_replace(F.col(\"genres\"), r\"\\s+\", \"\"))\n",
    "\n",
    "df_exploded = df.withColumn(\"genre\", F.explode(F.split(\"genres\", r\"[|,]\")))\n",
    "display(df_exploded.limit(10))\n"
   ]
  },
  {
   "cell_type": "markdown",
   "metadata": {
    "application/vnd.databricks.v1+cell": {
     "cellMetadata": {},
     "inputWidgets": {},
     "nuid": "eb07763b-4a91-4b9a-bdb3-57b66a541032",
     "showTitle": false,
     "tableResultSettingsMap": {},
     "title": ""
    }
   },
   "source": [
    "Cell 4 — Aggregations"
   ]
  },
  {
   "cell_type": "code",
   "execution_count": 0,
   "metadata": {
    "application/vnd.databricks.v1+cell": {
     "cellMetadata": {
      "byteLimit": 2048000,
      "rowLimit": 10000
     },
     "inputWidgets": {},
     "nuid": "e9fe7bc5-79b7-4665-9580-0bd9429a20df",
     "showTitle": false,
     "tableResultSettingsMap": {},
     "title": ""
    }
   },
   "outputs": [
    {
     "output_type": "display_data",
     "data": {
      "text/html": [
       "<style scoped>\n",
       "  .table-result-container {\n",
       "    max-height: 300px;\n",
       "    overflow: auto;\n",
       "  }\n",
       "  table, th, td {\n",
       "    border: 1px solid black;\n",
       "    border-collapse: collapse;\n",
       "  }\n",
       "  th, td {\n",
       "    padding: 5px;\n",
       "  }\n",
       "  th {\n",
       "    text-align: left;\n",
       "  }\n",
       "</style><div class='table-result-container'><table class='table-result'><thead style='background-color: white'><tr><th>genre</th><th>count</th></tr></thead><tbody><tr><td> Thriller</td><td>2028</td></tr><tr><td> Drama</td><td>1944</td></tr><tr><td>Drama</td><td>1868</td></tr><tr><td> Comedy</td><td>1565</td></tr><tr><td>Action</td><td>1565</td></tr><tr><td>Comedy</td><td>1378</td></tr><tr><td> Adventure</td><td>1319</td></tr><tr><td> Action</td><td>1187</td></tr><tr><td> Romance</td><td>1162</td></tr><tr><td> Fantasy</td><td>1118</td></tr></tbody></table></div>"
      ]
     },
     "metadata": {
      "application/vnd.databricks.v1+output": {
       "addedWidgets": {},
       "aggData": [],
       "aggError": "",
       "aggOverflow": false,
       "aggSchema": [],
       "aggSeriesLimitReached": false,
       "aggType": "",
       "arguments": {},
       "columnCustomDisplayInfos": {},
       "data": [
        [
         " Thriller",
         2028
        ],
        [
         " Drama",
         1944
        ],
        [
         "Drama",
         1868
        ],
        [
         " Comedy",
         1565
        ],
        [
         "Action",
         1565
        ],
        [
         "Comedy",
         1378
        ],
        [
         " Adventure",
         1319
        ],
        [
         " Action",
         1187
        ],
        [
         " Romance",
         1162
        ],
        [
         " Fantasy",
         1118
        ]
       ],
       "datasetInfos": [],
       "dbfsResultPath": null,
       "isJsonSchema": true,
       "metadata": {},
       "overflow": false,
       "plotOptions": {
        "customPlotOptions": {},
        "displayType": "table",
        "pivotAggregation": null,
        "pivotColumns": null,
        "xColumns": null,
        "yColumns": null
       },
       "removedWidgets": [],
       "schema": [
        {
         "metadata": "{}",
         "name": "genre",
         "type": "\"string\""
        },
        {
         "metadata": "{}",
         "name": "count",
         "type": "\"long\""
        }
       ],
       "type": "table"
      }
     },
     "output_type": "display_data"
    },
    {
     "output_type": "display_data",
     "data": {
      "text/html": [
       "<style scoped>\n",
       "  .table-result-container {\n",
       "    max-height: 300px;\n",
       "    overflow: auto;\n",
       "  }\n",
       "  table, th, td {\n",
       "    border: 1px solid black;\n",
       "    border-collapse: collapse;\n",
       "  }\n",
       "  th, td {\n",
       "    padding: 5px;\n",
       "  }\n",
       "  th {\n",
       "    text-align: left;\n",
       "  }\n",
       "</style><div class='table-result-container'><table class='table-result'><thead style='background-color: white'><tr><th>release_year</th><th>avg_rating</th></tr></thead><tbody><tr><td>1903</td><td>63.0</td></tr><tr><td>1907</td><td>80.0</td></tr><tr><td>1915</td><td>61.0</td></tr><tr><td>1920</td><td>80.0</td></tr><tr><td>1923</td><td>74.6</td></tr><tr><td>1925</td><td>74.8</td></tr><tr><td>1928</td><td>74.33333333333333</td></tr><tr><td>1929</td><td>75.0</td></tr><tr><td>1930</td><td>78.0</td></tr><tr><td>1931</td><td>77.58333333333333</td></tr></tbody></table></div>"
      ]
     },
     "metadata": {
      "application/vnd.databricks.v1+output": {
       "addedWidgets": {},
       "aggData": [],
       "aggError": "",
       "aggOverflow": false,
       "aggSchema": [],
       "aggSeriesLimitReached": false,
       "aggType": "",
       "arguments": {},
       "columnCustomDisplayInfos": {},
       "data": [
        [
         1903,
         63.0
        ],
        [
         1907,
         80.0
        ],
        [
         1915,
         61.0
        ],
        [
         1920,
         80.0
        ],
        [
         1923,
         74.6
        ],
        [
         1925,
         74.8
        ],
        [
         1928,
         74.33333333333333
        ],
        [
         1929,
         75.0
        ],
        [
         1930,
         78.0
        ],
        [
         1931,
         77.58333333333333
        ]
       ],
       "datasetInfos": [],
       "dbfsResultPath": null,
       "isJsonSchema": true,
       "metadata": {},
       "overflow": false,
       "plotOptions": {
        "customPlotOptions": {},
        "displayType": "table",
        "pivotAggregation": null,
        "pivotColumns": null,
        "xColumns": null,
        "yColumns": null
       },
       "removedWidgets": [],
       "schema": [
        {
         "metadata": "{}",
         "name": "release_year",
         "type": "\"integer\""
        },
        {
         "metadata": "{}",
         "name": "avg_rating",
         "type": "\"double\""
        }
       ],
       "type": "table"
      }
     },
     "output_type": "display_data"
    }
   ],
   "source": [
    "# Top genres by count\n",
    "genres_pop = (df_exploded.groupBy(\"genre\")\n",
    "              .count()\n",
    "              .orderBy(F.desc(\"count\")))\n",
    "\n",
    "# Average rating by release year\n",
    "rating_by_year = (df_exploded\n",
    "                  .where(F.col(\"rating\").isNotNull())\n",
    "                  .groupBy(\"release_year\")\n",
    "                  .agg(F.avg(\"rating\").alias(\"avg_rating\"))\n",
    "                  .orderBy(\"release_year\"))\n",
    "\n",
    "display(genres_pop.limit(10))\n",
    "display(rating_by_year.limit(10))\n"
   ]
  },
  {
   "cell_type": "markdown",
   "metadata": {
    "application/vnd.databricks.v1+cell": {
     "cellMetadata": {},
     "inputWidgets": {},
     "nuid": "20760984-e78b-4408-a7bf-4bb1e738e27f",
     "showTitle": false,
     "tableResultSettingsMap": {},
     "title": ""
    }
   },
   "source": [
    "Cell 5 — Save + Query"
   ]
  },
  {
   "cell_type": "code",
   "execution_count": 0,
   "metadata": {
    "application/vnd.databricks.v1+cell": {
     "cellMetadata": {},
     "inputWidgets": {},
     "nuid": "eb01d62b-6db7-4549-9bf5-ff76695935a3",
     "showTitle": false,
     "tableResultSettingsMap": {},
     "title": ""
    }
   },
   "outputs": [],
   "source": [
    "# Save to DBFS\n",
    "genres_pop.write.mode(\"overwrite\").parquet(f\"{OUT}/genres_pop\")\n",
    "rating_by_year.write.mode(\"overwrite\").parquet(f\"{OUT}/rating_by_year\")\n",
    "\n",
    "# Query via SparkSQL\n",
    "genres_pop.createOrReplaceTempView(\"genres_pop\")\n",
    "display(spark.sql(\"SELECT * FROM genres_pop ORDER BY count DESC LIMIT 10\"))\n",
    "\n",
    "print(\"✅ Saved outputs under:\", OUT)\n"
   ]
  }
 ],
 "metadata": {
  "application/vnd.databricks.v1+notebook": {
   "computePreferences": null,
   "dashboards": [],
   "environmentMetadata": {
    "base_environment": "",
    "environment_version": "2"
   },
   "inputWidgetPreferences": null,
   "language": "python",
   "notebookMetadata": {
    "mostRecentlyExecutedCommandWithImplicitDF": {
     "commandId": 5510859650958078,
     "dataframes": [
      "_sqldf"
     ]
    },
    "pythonIndentUnit": 4
   },
   "notebookName": "PySpark-Movie-Pipeline-Databricks",
   "widgets": {}
  },
  "language_info": {
   "name": "python"
  }
 },
 "nbformat": 4,
 "nbformat_minor": 0
}